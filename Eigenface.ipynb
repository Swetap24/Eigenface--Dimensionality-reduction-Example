{
 "cells": [
  {
   "cell_type": "markdown",
   "metadata": {
    "colab_type": "text",
    "id": "NU_RBIaOF9cc"
   },
   "source": [
    "Dimensionality Reduction Example"
   ]
  },
  {
   "cell_type": "code",
   "execution_count": 0,
   "metadata": {
    "colab": {},
    "colab_type": "code",
    "id": "41kvm1bUr2Sb"
   },
   "outputs": [],
   "source": [
    "from scipy.io import loadmat\n",
    "from matplotlib import pyplot as plt\n",
    "import numpy as np\n",
    "from numpy import mean\n",
    "from numpy import cov\n",
    "from numpy.linalg import eig\n"
   ]
  },
  {
   "cell_type": "code",
   "execution_count": null,
   "metadata": {},
   "outputs": [],
   "source": [
    "def pca_fun(input_data, target_d):\n",
    "    # P: d x target_d matrix containing target_d eigenvectors\n",
    "    cov_mat=np.cov(input_data.T)\n",
    "    Values, Vectors=eig(cov_mat)\n",
    "    P=(Vectors[:,:target_d])\n",
    "    return P"
   ]
  },
  {
   "cell_type": "code",
   "execution_count": 0,
   "metadata": {
    "colab": {},
    "colab_type": "code",
    "id": "hGKITsenr_CZ"
   },
   "outputs": [],
   "source": [
    "# Dataset used was face images from the Yale Face Database B, which contains face images from 10 people under 64 lighting conditions\n",
    "\n",
    "data = loadmat('dataset')# (Dataset used was .mat file)\n",
    "image = data['image'][0]\n",
    "person_id = data['personID'][0]"
   ]
  },
  {
   "cell_type": "code",
   "execution_count": 0,
   "metadata": {
    "colab": {},
    "colab_type": "code",
    "id": "esayEDjSV9NM"
   },
   "outputs": [],
   "source": [
    "def normalize_image(image):\n",
    "  new_arr=[]\n",
    "  for i in range (image.shape[0]):\n",
    "    new_arr.append( np.reshape(image[i], (2500,1)))\n",
    "  return new_arr"
   ]
  },
  {
   "cell_type": "code",
   "execution_count": 0,
   "metadata": {
    "colab": {},
    "colab_type": "code",
    "id": "yOCWSB7lV4yp"
   },
   "outputs": [],
   "source": [
    "norm_img=np.array(normalize_image(image))"
   ]
  },
  {
   "cell_type": "code",
   "execution_count": 0,
   "metadata": {
    "colab": {},
    "colab_type": "code",
    "id": "AHYb847wWdBg"
   },
   "outputs": [],
   "source": [
    "new=norm_img.reshape(640,2500)"
   ]
  },
  {
   "cell_type": "code",
   "execution_count": 0,
   "metadata": {
    "colab": {},
    "colab_type": "code",
    "id": "N9NyPfbtsEQ3"
   },
   "outputs": [],
   "source": [
    "m= pca_fun(new, 200)"
   ]
  },
  {
   "cell_type": "code",
   "execution_count": 0,
   "metadata": {
    "colab": {},
    "colab_type": "code",
    "id": "43-CGGxvYm3i"
   },
   "outputs": [],
   "source": [
    "new_m=m.T"
   ]
  },
  {
   "cell_type": "code",
   "execution_count": 152,
   "metadata": {
    "colab": {
     "base_uri": "https://localhost:8080/",
     "height": 34
    },
    "colab_type": "code",
    "id": "4qiaPkmIYsG9",
    "outputId": "fad86b44-c261-495b-8e91-31613f2ff601"
   },
   "outputs": [
    {
     "data": {
      "text/plain": [
       "(2500,)"
      ]
     },
     "execution_count": 152,
     "metadata": {
      "tags": []
     },
     "output_type": "execute_result"
    }
   ],
   "source": [
    "new_m[0].shape"
   ]
  },
  {
   "cell_type": "code",
   "execution_count": 153,
   "metadata": {
    "colab": {
     "base_uri": "https://localhost:8080/",
     "height": 267
    },
    "colab_type": "code",
    "id": "VpzrcxwhsNCX",
    "outputId": "78aecacc-f0b3-4715-da50-b171aec85348"
   },
   "outputs": [
    {
     "data": {
      "image/png": "[encoded data removed]",
      "text/plain": [
       "<Figure size 432x288 with 1 Axes>"
      ]
     },
     "metadata": {
      "tags": []
     },
     "output_type": "display_data"
    }
   ],
   "source": [
    "plt.imshow(np.real(new_m[1].reshape(50,50)), cmap='gray')\n",
    "plt.show()"
   ]
  },
  {
   "cell_type": "code",
   "execution_count": 155,
   "metadata": {
    "colab": {
     "base_uri": "https://localhost:8080/",
     "height": 267
    },
    "colab_type": "code",
    "id": "ysphQrY2ua6W",
    "outputId": "a6ebca19-4342-4689-8897-9c91f98399e2"
   },
   "outputs": [
    {
     "data": {
      "image/png": "[encoded data removed]",
      "text/plain": [
       "<Figure size 432x288 with 1 Axes>"
      ]
     },
     "metadata": {
      "tags": []
     },
     "output_type": "display_data"
    }
   ],
   "source": [
    "plt.imshow(np.real(new_m[0].reshape(50,50)), cmap='gray')\n",
    "plt.show()"
   ]
  },
  {
   "cell_type": "code",
   "execution_count": 158,
   "metadata": {
    "colab": {
     "base_uri": "https://localhost:8080/",
     "height": 267
    },
    "colab_type": "code",
    "id": "zPK14YiBuvA0",
    "outputId": "6780ed4b-bee4-4674-9775-6010abdbbd98"
   },
   "outputs": [
    {
     "data": {
      "image/png": "[encoded data removed]",
      "text/plain": [
       "<Figure size 432x288 with 1 Axes>"
      ]
     },
     "metadata": {
      "tags": []
     },
     "output_type": "display_data"
    }
   ],
   "source": [
    "plt.imshow(np.real(new_m[3].reshape(50,50)), cmap='gray')\n",
    "plt.show()"
   ]
  },
  {
   "cell_type": "code",
   "execution_count": 159,
   "metadata": {
    "colab": {
     "base_uri": "https://localhost:8080/",
     "height": 267
    },
    "colab_type": "code",
    "id": "uDqPSBAMuvyf",
    "outputId": "caebaa4e-c887-4c39-db75-8ce346ef2da9"
   },
   "outputs": [
    {
     "data": {
      "image/png": "[encoded data removed]",
      "text/plain": [
       "<Figure size 432x288 with 1 Axes>"
      ]
     },
     "metadata": {
      "tags": []
     },
     "output_type": "display_data"
    }
   ],
   "source": [
    "plt.imshow(np.real(new_m[2].reshape(50,50)), cmap='gray')\n",
    "plt.show()"
   ]
  },
  {
   "cell_type": "code",
   "execution_count": 160,
   "metadata": {
    "colab": {
     "base_uri": "https://localhost:8080/",
     "height": 267
    },
    "colab_type": "code",
    "id": "PAp02EgXuxvG",
    "outputId": "d380bab7-fac0-4c31-a1bf-0aabe9fd5b42"
   },
   "outputs": [
    {
     "data": {
      "image/png": "[encoded data removed]",
      "text/plain": [
       "<Figure size 432x288 with 1 Axes>"
      ]
     },
     "metadata": {
      "tags": []
     },
     "output_type": "display_data"
    }
   ],
   "source": [
    "\n",
    "plt.imshow(np.real(new_m[4].reshape(50,50)), cmap='gray')\n",
    "plt.show()"
   ]
  }
 ],
 "metadata": {
  "colab": {
   "collapsed_sections": [],
   "name": "Eigenfac.ipynb",
   "provenance": []
  },
  "kernelspec": {
   "display_name": "Python 3",
   "language": "python",
   "name": "python3"
  },
  "language_info": {
   "codemirror_mode": {
    "name": "ipython",
    "version": 3
   },
   "file_extension": ".py",
   "mimetype": "text/x-python",
   "name": "python",
   "nbconvert_exporter": "python",
   "pygments_lexer": "ipython3",
   "version": "3.7.3"
  }
 },
 "nbformat": 4,
 "nbformat_minor": 1
}
